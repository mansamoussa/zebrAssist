{
  "nbformat": 4,
  "nbformat_minor": 0,
  "metadata": {
    "colab": {
      "provenance": [],
      "authorship_tag": "ABX9TyMs5EC4mneuY6a8DFFoiXBc",
      "include_colab_link": true
    },
    "kernelspec": {
      "name": "python3",
      "display_name": "Python 3"
    },
    "language_info": {
      "name": "python"
    }
  },
  "cells": [
    {
      "cell_type": "markdown",
      "metadata": {
        "id": "view-in-github",
        "colab_type": "text"
      },
      "source": [
        "<a href=\"https://colab.research.google.com/github/mansamoussa/zebrAssist/blob/master/DemoYolo.ipynb\" target=\"_parent\"><img src=\"https://colab.research.google.com/assets/colab-badge.svg\" alt=\"Open In Colab\"/></a>"
      ]
    },
    {
      "cell_type": "code",
      "execution_count": null,
      "metadata": {
        "colab": {
          "base_uri": "https://localhost:8080/"
        },
        "id": "VOws39OflOW7",
        "outputId": "0439fd59-cabb-4618-e1ec-2614d61c969f"
      },
      "outputs": [
        {
          "output_type": "stream",
          "name": "stdout",
          "text": [
            "✅ Running in Google Colab\n",
            "Mounted at /content/drive\n",
            "✅ Google Drive mounted\n",
            "/bin/bash: line 1: nvidia-smi: command not found\n",
            "Collecting ultralytics\n",
            "  Downloading ultralytics-8.3.186-py3-none-any.whl.metadata (37 kB)\n",
            "Requirement already satisfied: numpy>=1.23.0 in /usr/local/lib/python3.12/dist-packages (from ultralytics) (2.0.2)\n",
            "Requirement already satisfied: matplotlib>=3.3.0 in /usr/local/lib/python3.12/dist-packages (from ultralytics) (3.10.0)\n",
            "Requirement already satisfied: opencv-python>=4.6.0 in /usr/local/lib/python3.12/dist-packages (from ultralytics) (4.12.0.88)\n",
            "Requirement already satisfied: pillow>=7.1.2 in /usr/local/lib/python3.12/dist-packages (from ultralytics) (11.3.0)\n",
            "Requirement already satisfied: pyyaml>=5.3.1 in /usr/local/lib/python3.12/dist-packages (from ultralytics) (6.0.2)\n",
            "Requirement already satisfied: requests>=2.23.0 in /usr/local/lib/python3.12/dist-packages (from ultralytics) (2.32.4)\n",
            "Requirement already satisfied: scipy>=1.4.1 in /usr/local/lib/python3.12/dist-packages (from ultralytics) (1.16.1)\n",
            "Requirement already satisfied: torch>=1.8.0 in /usr/local/lib/python3.12/dist-packages (from ultralytics) (2.8.0+cu126)\n",
            "Requirement already satisfied: torchvision>=0.9.0 in /usr/local/lib/python3.12/dist-packages (from ultralytics) (0.23.0+cu126)\n",
            "Requirement already satisfied: psutil in /usr/local/lib/python3.12/dist-packages (from ultralytics) (5.9.5)\n",
            "Requirement already satisfied: py-cpuinfo in /usr/local/lib/python3.12/dist-packages (from ultralytics) (9.0.0)\n",
            "Requirement already satisfied: pandas>=1.1.4 in /usr/local/lib/python3.12/dist-packages (from ultralytics) (2.2.2)\n",
            "Collecting ultralytics-thop>=2.0.0 (from ultralytics)\n",
            "  Downloading ultralytics_thop-2.0.16-py3-none-any.whl.metadata (14 kB)\n",
            "Requirement already satisfied: contourpy>=1.0.1 in /usr/local/lib/python3.12/dist-packages (from matplotlib>=3.3.0->ultralytics) (1.3.3)\n",
            "Requirement already satisfied: cycler>=0.10 in /usr/local/lib/python3.12/dist-packages (from matplotlib>=3.3.0->ultralytics) (0.12.1)\n",
            "Requirement already satisfied: fonttools>=4.22.0 in /usr/local/lib/python3.12/dist-packages (from matplotlib>=3.3.0->ultralytics) (4.59.1)\n",
            "Requirement already satisfied: kiwisolver>=1.3.1 in /usr/local/lib/python3.12/dist-packages (from matplotlib>=3.3.0->ultralytics) (1.4.9)\n",
            "Requirement already satisfied: packaging>=20.0 in /usr/local/lib/python3.12/dist-packages (from matplotlib>=3.3.0->ultralytics) (25.0)\n",
            "Requirement already satisfied: pyparsing>=2.3.1 in /usr/local/lib/python3.12/dist-packages (from matplotlib>=3.3.0->ultralytics) (3.2.3)\n",
            "Requirement already satisfied: python-dateutil>=2.7 in /usr/local/lib/python3.12/dist-packages (from matplotlib>=3.3.0->ultralytics) (2.9.0.post0)\n",
            "Requirement already satisfied: pytz>=2020.1 in /usr/local/lib/python3.12/dist-packages (from pandas>=1.1.4->ultralytics) (2025.2)\n",
            "Requirement already satisfied: tzdata>=2022.7 in /usr/local/lib/python3.12/dist-packages (from pandas>=1.1.4->ultralytics) (2025.2)\n",
            "Requirement already satisfied: charset_normalizer<4,>=2 in /usr/local/lib/python3.12/dist-packages (from requests>=2.23.0->ultralytics) (3.4.3)\n",
            "Requirement already satisfied: idna<4,>=2.5 in /usr/local/lib/python3.12/dist-packages (from requests>=2.23.0->ultralytics) (3.10)\n",
            "Requirement already satisfied: urllib3<3,>=1.21.1 in /usr/local/lib/python3.12/dist-packages (from requests>=2.23.0->ultralytics) (2.5.0)\n",
            "Requirement already satisfied: certifi>=2017.4.17 in /usr/local/lib/python3.12/dist-packages (from requests>=2.23.0->ultralytics) (2025.8.3)\n",
            "Requirement already satisfied: filelock in /usr/local/lib/python3.12/dist-packages (from torch>=1.8.0->ultralytics) (3.19.1)\n",
            "Requirement already satisfied: typing-extensions>=4.10.0 in /usr/local/lib/python3.12/dist-packages (from torch>=1.8.0->ultralytics) (4.14.1)\n",
            "Requirement already satisfied: setuptools in /usr/local/lib/python3.12/dist-packages (from torch>=1.8.0->ultralytics) (75.2.0)\n",
            "Requirement already satisfied: sympy>=1.13.3 in /usr/local/lib/python3.12/dist-packages (from torch>=1.8.0->ultralytics) (1.13.3)\n",
            "Requirement already satisfied: networkx in /usr/local/lib/python3.12/dist-packages (from torch>=1.8.0->ultralytics) (3.5)\n",
            "Requirement already satisfied: jinja2 in /usr/local/lib/python3.12/dist-packages (from torch>=1.8.0->ultralytics) (3.1.6)\n",
            "Requirement already satisfied: fsspec in /usr/local/lib/python3.12/dist-packages (from torch>=1.8.0->ultralytics) (2025.3.0)\n",
            "Requirement already satisfied: nvidia-cuda-nvrtc-cu12==12.6.77 in /usr/local/lib/python3.12/dist-packages (from torch>=1.8.0->ultralytics) (12.6.77)\n",
            "Requirement already satisfied: nvidia-cuda-runtime-cu12==12.6.77 in /usr/local/lib/python3.12/dist-packages (from torch>=1.8.0->ultralytics) (12.6.77)\n",
            "Requirement already satisfied: nvidia-cuda-cupti-cu12==12.6.80 in /usr/local/lib/python3.12/dist-packages (from torch>=1.8.0->ultralytics) (12.6.80)\n",
            "Requirement already satisfied: nvidia-cudnn-cu12==9.10.2.21 in /usr/local/lib/python3.12/dist-packages (from torch>=1.8.0->ultralytics) (9.10.2.21)\n",
            "Requirement already satisfied: nvidia-cublas-cu12==12.6.4.1 in /usr/local/lib/python3.12/dist-packages (from torch>=1.8.0->ultralytics) (12.6.4.1)\n",
            "Requirement already satisfied: nvidia-cufft-cu12==11.3.0.4 in /usr/local/lib/python3.12/dist-packages (from torch>=1.8.0->ultralytics) (11.3.0.4)\n",
            "Requirement already satisfied: nvidia-curand-cu12==10.3.7.77 in /usr/local/lib/python3.12/dist-packages (from torch>=1.8.0->ultralytics) (10.3.7.77)\n",
            "Requirement already satisfied: nvidia-cusolver-cu12==11.7.1.2 in /usr/local/lib/python3.12/dist-packages (from torch>=1.8.0->ultralytics) (11.7.1.2)\n",
            "Requirement already satisfied: nvidia-cusparse-cu12==12.5.4.2 in /usr/local/lib/python3.12/dist-packages (from torch>=1.8.0->ultralytics) (12.5.4.2)\n",
            "Requirement already satisfied: nvidia-cusparselt-cu12==0.7.1 in /usr/local/lib/python3.12/dist-packages (from torch>=1.8.0->ultralytics) (0.7.1)\n",
            "Requirement already satisfied: nvidia-nccl-cu12==2.27.3 in /usr/local/lib/python3.12/dist-packages (from torch>=1.8.0->ultralytics) (2.27.3)\n",
            "Requirement already satisfied: nvidia-nvtx-cu12==12.6.77 in /usr/local/lib/python3.12/dist-packages (from torch>=1.8.0->ultralytics) (12.6.77)\n",
            "Requirement already satisfied: nvidia-nvjitlink-cu12==12.6.85 in /usr/local/lib/python3.12/dist-packages (from torch>=1.8.0->ultralytics) (12.6.85)\n",
            "Requirement already satisfied: nvidia-cufile-cu12==1.11.1.6 in /usr/local/lib/python3.12/dist-packages (from torch>=1.8.0->ultralytics) (1.11.1.6)\n",
            "Requirement already satisfied: triton==3.4.0 in /usr/local/lib/python3.12/dist-packages (from torch>=1.8.0->ultralytics) (3.4.0)\n",
            "Requirement already satisfied: six>=1.5 in /usr/local/lib/python3.12/dist-packages (from python-dateutil>=2.7->matplotlib>=3.3.0->ultralytics) (1.17.0)\n",
            "Requirement already satisfied: mpmath<1.4,>=1.1.0 in /usr/local/lib/python3.12/dist-packages (from sympy>=1.13.3->torch>=1.8.0->ultralytics) (1.3.0)\n",
            "Requirement already satisfied: MarkupSafe>=2.0 in /usr/local/lib/python3.12/dist-packages (from jinja2->torch>=1.8.0->ultralytics) (3.0.2)\n",
            "Downloading ultralytics-8.3.186-py3-none-any.whl (1.1 MB)\n",
            "\u001b[2K   \u001b[90m━━━━━━━━━━━━━━━━━━━━━━━━━━━━━━━━━━━━━━━━\u001b[0m \u001b[32m1.1/1.1 MB\u001b[0m \u001b[31m17.3 MB/s\u001b[0m eta \u001b[36m0:00:00\u001b[0m\n",
            "\u001b[?25hDownloading ultralytics_thop-2.0.16-py3-none-any.whl (28 kB)\n",
            "Installing collected packages: ultralytics-thop, ultralytics\n",
            "Successfully installed ultralytics-8.3.186 ultralytics-thop-2.0.16\n"
          ]
        }
      ],
      "source": [
        "# Swiss Zebra Crossing & Traffic Light Detection - YOLOv8 Training\n",
        "# Run this in Google Colab with GPU enabled\n",
        "\n",
        "# =============================================================================\n",
        "# 1. SETUP AND INSTALLATIONS\n",
        "# =============================================================================\n",
        "\n",
        "# Check if we're in Colab and enable GPU\n",
        "import os\n",
        "try:\n",
        "    from google.colab import drive\n",
        "    IN_COLAB = True\n",
        "    print(\"✅ Running in Google Colab\")\n",
        "\n",
        "    # Mount Google Drive\n",
        "    drive.mount('/content/drive')\n",
        "    print(\"✅ Google Drive mounted\")\n",
        "\n",
        "    # Check GPU\n",
        "    !nvidia-smi\n",
        "\n",
        "except ImportError:\n",
        "    IN_COLAB = False\n",
        "    print(\"⚠️ Not in Colab - make sure you have GPU available\")\n",
        "\n",
        "# Install YOLOv8\n",
        "!pip install ultralytics\n"
      ]
    },
    {
      "cell_type": "code",
      "source": [
        "\n",
        "# Import libraries\n",
        "import yaml\n",
        "import torch\n",
        "from ultralytics import YOLO\n",
        "import matplotlib.pyplot as plt\n",
        "from IPython.display import Image, display\n",
        "import shutil\n",
        "\n",
        "print(f\"✅ PyTorch version: {torch.__version__}\")\n",
        "print(f\"✅ CUDA available: {torch.cuda.is_available()}\")\n",
        "if torch.cuda.is_available():\n",
        "    print(f\"✅ GPU: {torch.cuda.get_device_name(0)}\")\n"
      ],
      "metadata": {
        "colab": {
          "base_uri": "https://localhost:8080/"
        },
        "id": "Xgm-xKlKlYGo",
        "outputId": "62a6462c-a69d-4962-d1ef-5d2bc33e6a46"
      },
      "execution_count": null,
      "outputs": [
        {
          "output_type": "stream",
          "name": "stdout",
          "text": [
            "Creating new Ultralytics Settings v0.0.6 file ✅ \n",
            "View Ultralytics Settings with 'yolo settings' or at '/root/.config/Ultralytics/settings.json'\n",
            "Update Settings with 'yolo settings key=value', i.e. 'yolo settings runs_dir=path/to/dir'. For help see https://docs.ultralytics.com/quickstart/#ultralytics-settings.\n",
            "✅ PyTorch version: 2.8.0+cu126\n",
            "✅ CUDA available: False\n"
          ]
        }
      ]
    },
    {
      "cell_type": "code",
      "source": [
        "\n",
        "# =============================================================================\n",
        "# 2. DOWNLOAD AND EXTRACT DATASET\n",
        "# =============================================================================\n",
        "\n",
        "# Find the dataset directory (adjust if needed)\n",
        "dataset_path = \"/content/drive/MyDrive/Computer_Vision_Project/data/zebrAssit.v1i.yolov8\"\n",
        "data_yaml = f\"{dataset_path}/data.yaml\"\n",
        "\n",
        "# Verify dataset\n",
        "with open(data_yaml, 'r') as f:\n",
        "    data_config = yaml.safe_load(f)\n",
        "\n",
        "print(f\"Dataset classes: {data_config['names']}\")\n",
        "print(f\"Number of classes: {data_config['nc']}\")\n",
        "\n",
        "# Fix paths in data.yaml for Colab\n",
        "data_config['train'] = f\"{dataset_path}/train/images\"\n",
        "data_config['val'] = f\"{dataset_path}/valid/images\" if os.path.exists(f\"{dataset_path}/valid\") else f\"{dataset_path}/train/images\"\n",
        "data_config['test'] = f\"{dataset_path}/test/images\" if os.path.exists(f\"{dataset_path}/test\") else f\"{dataset_path}/train/images\"\n",
        "\n",
        "# Save updated config\n",
        "with open(data_yaml, 'w') as f:\n",
        "    yaml.dump(data_config, f)\n",
        "\n",
        "print(\"✅ Dataset paths updated for Colab\")\n"
      ],
      "metadata": {
        "colab": {
          "base_uri": "https://localhost:8080/"
        },
        "id": "7JwoteuFlYzY",
        "outputId": "1d207b73-ae57-42e4-815b-5398802f550e"
      },
      "execution_count": null,
      "outputs": [
        {
          "output_type": "stream",
          "name": "stdout",
          "text": [
            "Dataset classes: ['traffic_light_green', 'traffic_light_red', 'traffic_light_yellow', 'zebra_crossing']\n",
            "Number of classes: 4\n",
            "✅ Dataset paths updated for Colab\n"
          ]
        }
      ]
    },
    {
      "cell_type": "code",
      "source": [
        "\n",
        "# =============================================================================\n",
        "# 3. TRAIN THE MODEL\n",
        "# =============================================================================\n",
        "\n",
        "# Initialize YOLOv8 model\n",
        "model = YOLO('yolov8n.pt')  # nano version for speed\n",
        "\n",
        "print(\"🚀 Starting training...\")\n",
        "\n",
        "# Train the model\n",
        "results = model.train(\n",
        "    data=data_yaml,\n",
        "    epochs=10,          # Increase for better results\n",
        "    imgsz=640,\n",
        "    batch=16,            # Adjust based on GPU memory\n",
        "    name='swiss_zebra_traffic',\n",
        "    patience=5,         # Early stopping\n",
        "    save=True,\n",
        "    device=0 if torch.cuda.is_available() else 'cpu'\n",
        ")\n",
        "\n",
        "print(\"✅ Training completed!\")\n"
      ],
      "metadata": {
        "colab": {
          "base_uri": "https://localhost:8080/"
        },
        "id": "Q5LC7EmJlY1_",
        "outputId": "d1683fba-5db7-4053-8ba4-1515a020a12e"
      },
      "execution_count": null,
      "outputs": [
        {
          "output_type": "stream",
          "name": "stdout",
          "text": [
            "🚀 Starting training...\n",
            "Ultralytics 8.3.186 🚀 Python-3.12.11 torch-2.8.0+cu126 CPU (Intel Xeon 2.20GHz)\n",
            "\u001b[34m\u001b[1mengine/trainer: \u001b[0magnostic_nms=False, amp=True, augment=False, auto_augment=randaugment, batch=16, bgr=0.0, box=7.5, cache=False, cfg=None, classes=None, close_mosaic=10, cls=0.5, conf=None, copy_paste=0.0, copy_paste_mode=flip, cos_lr=False, cutmix=0.0, data=/content/drive/MyDrive/Computer_Vision_Project/data/zebrAssit.v1i.yolov8/data.yaml, degrees=0.0, deterministic=True, device=cpu, dfl=1.5, dnn=False, dropout=0.0, dynamic=False, embed=None, epochs=10, erasing=0.4, exist_ok=False, fliplr=0.5, flipud=0.0, format=torchscript, fraction=1.0, freeze=None, half=False, hsv_h=0.015, hsv_s=0.7, hsv_v=0.4, imgsz=640, int8=False, iou=0.7, keras=False, kobj=1.0, line_width=None, lr0=0.01, lrf=0.01, mask_ratio=4, max_det=300, mixup=0.0, mode=train, model=yolov8n.pt, momentum=0.937, mosaic=1.0, multi_scale=False, name=swiss_zebra_traffic2, nbs=64, nms=False, opset=None, optimize=False, optimizer=auto, overlap_mask=True, patience=5, perspective=0.0, plots=True, pose=12.0, pretrained=True, profile=False, project=None, rect=False, resume=False, retina_masks=False, save=True, save_conf=False, save_crop=False, save_dir=runs/detect/swiss_zebra_traffic2, save_frames=False, save_json=False, save_period=-1, save_txt=False, scale=0.5, seed=0, shear=0.0, show=False, show_boxes=True, show_conf=True, show_labels=True, simplify=True, single_cls=False, source=None, split=val, stream_buffer=False, task=detect, time=None, tracker=botsort.yaml, translate=0.1, val=True, verbose=True, vid_stride=1, visualize=False, warmup_bias_lr=0.1, warmup_epochs=3.0, warmup_momentum=0.8, weight_decay=0.0005, workers=8, workspace=None\n",
            "Overriding model.yaml nc=80 with nc=4\n",
            "\n",
            "                   from  n    params  module                                       arguments                     \n",
            "  0                  -1  1       464  ultralytics.nn.modules.conv.Conv             [3, 16, 3, 2]                 \n",
            "  1                  -1  1      4672  ultralytics.nn.modules.conv.Conv             [16, 32, 3, 2]                \n",
            "  2                  -1  1      7360  ultralytics.nn.modules.block.C2f             [32, 32, 1, True]             \n",
            "  3                  -1  1     18560  ultralytics.nn.modules.conv.Conv             [32, 64, 3, 2]                \n",
            "  4                  -1  2     49664  ultralytics.nn.modules.block.C2f             [64, 64, 2, True]             \n",
            "  5                  -1  1     73984  ultralytics.nn.modules.conv.Conv             [64, 128, 3, 2]               \n",
            "  6                  -1  2    197632  ultralytics.nn.modules.block.C2f             [128, 128, 2, True]           \n",
            "  7                  -1  1    295424  ultralytics.nn.modules.conv.Conv             [128, 256, 3, 2]              \n",
            "  8                  -1  1    460288  ultralytics.nn.modules.block.C2f             [256, 256, 1, True]           \n",
            "  9                  -1  1    164608  ultralytics.nn.modules.block.SPPF            [256, 256, 5]                 \n",
            " 10                  -1  1         0  torch.nn.modules.upsampling.Upsample         [None, 2, 'nearest']          \n",
            " 11             [-1, 6]  1         0  ultralytics.nn.modules.conv.Concat           [1]                           \n",
            " 12                  -1  1    148224  ultralytics.nn.modules.block.C2f             [384, 128, 1]                 \n",
            " 13                  -1  1         0  torch.nn.modules.upsampling.Upsample         [None, 2, 'nearest']          \n",
            " 14             [-1, 4]  1         0  ultralytics.nn.modules.conv.Concat           [1]                           \n",
            " 15                  -1  1     37248  ultralytics.nn.modules.block.C2f             [192, 64, 1]                  \n",
            " 16                  -1  1     36992  ultralytics.nn.modules.conv.Conv             [64, 64, 3, 2]                \n",
            " 17            [-1, 12]  1         0  ultralytics.nn.modules.conv.Concat           [1]                           \n",
            " 18                  -1  1    123648  ultralytics.nn.modules.block.C2f             [192, 128, 1]                 \n",
            " 19                  -1  1    147712  ultralytics.nn.modules.conv.Conv             [128, 128, 3, 2]              \n",
            " 20             [-1, 9]  1         0  ultralytics.nn.modules.conv.Concat           [1]                           \n",
            " 21                  -1  1    493056  ultralytics.nn.modules.block.C2f             [384, 256, 1]                 \n",
            " 22        [15, 18, 21]  1    752092  ultralytics.nn.modules.head.Detect           [4, [64, 128, 256]]           \n",
            "Model summary: 129 layers, 3,011,628 parameters, 3,011,612 gradients, 8.2 GFLOPs\n",
            "\n",
            "Transferred 319/355 items from pretrained weights\n",
            "Freezing layer 'model.22.dfl.conv.weight'\n",
            "\u001b[34m\u001b[1mtrain: \u001b[0mFast image access ✅ (ping: 0.5±0.1 ms, read: 31.0±5.7 MB/s, size: 93.7 KB)\n",
            "\u001b[K\u001b[34m\u001b[1mtrain: \u001b[0mScanning /content/drive/MyDrive/Computer_Vision_Project/data/zebrAssit.v1i.yolov8/train/labels.cache... 22 images, 0 backgrounds, 0 corrupt: 100% ━━━━━━━━━━━━ 22/22 25156.7it/s 0.0s\n",
            "WARNING ⚠️ Box and segment counts should be equal, but got len(segments) = 12, len(boxes) = 44. To resolve this only boxes will be used and all segments will be removed. To avoid this please supply either a detect or segment dataset, not a detect-segment mixed dataset.\n",
            "\u001b[34m\u001b[1malbumentations: \u001b[0mBlur(p=0.01, blur_limit=(3, 7)), MedianBlur(p=0.01, blur_limit=(3, 7)), ToGray(p=0.01, method='weighted_average', num_output_channels=3), CLAHE(p=0.01, clip_limit=(1.0, 4.0), tile_grid_size=(8, 8))\n",
            "\u001b[34m\u001b[1mval: \u001b[0mFast image access ✅ (ping: 0.5±0.2 ms, read: 25.4±4.0 MB/s, size: 83.0 KB)\n",
            "\u001b[K\u001b[34m\u001b[1mval: \u001b[0mScanning /content/drive/MyDrive/Computer_Vision_Project/data/zebrAssit.v1i.yolov8/train/labels.cache... 22 images, 0 backgrounds, 0 corrupt: 100% ━━━━━━━━━━━━ 22/22 24212.7it/s 0.0s\n",
            "WARNING ⚠️ Box and segment counts should be equal, but got len(segments) = 12, len(boxes) = 44. To resolve this only boxes will be used and all segments will be removed. To avoid this please supply either a detect or segment dataset, not a detect-segment mixed dataset.\n",
            "Plotting labels to runs/detect/swiss_zebra_traffic2/labels.jpg... \n",
            "\u001b[34m\u001b[1moptimizer:\u001b[0m 'optimizer=auto' found, ignoring 'lr0=0.01' and 'momentum=0.937' and determining best 'optimizer', 'lr0' and 'momentum' automatically... \n",
            "\u001b[34m\u001b[1moptimizer:\u001b[0m AdamW(lr=0.00125, momentum=0.9) with parameter groups 57 weight(decay=0.0), 64 weight(decay=0.0005), 63 bias(decay=0.0)\n",
            "Image sizes 640 train, 640 val\n",
            "Using 0 dataloader workers\n",
            "Logging results to \u001b[1mruns/detect/swiss_zebra_traffic2\u001b[0m\n",
            "Starting training for 10 epochs...\n",
            "Closing dataloader mosaic\n",
            "\u001b[34m\u001b[1malbumentations: \u001b[0mBlur(p=0.01, blur_limit=(3, 7)), MedianBlur(p=0.01, blur_limit=(3, 7)), ToGray(p=0.01, method='weighted_average', num_output_channels=3), CLAHE(p=0.01, clip_limit=(1.0, 4.0), tile_grid_size=(8, 8))\n",
            "\n",
            "      Epoch    GPU_mem   box_loss   cls_loss   dfl_loss  Instances       Size\n",
            "\u001b[K       1/10         0G      2.575      5.201      2.452         11        640: 100% ━━━━━━━━━━━━ 2/2 0.09it/s 21.3s\n",
            "\u001b[K                 Class     Images  Instances      Box(P          R      mAP50  mAP50-95): 100% ━━━━━━━━━━━━ 1/1 0.15it/s 6.7s\n",
            "                   all         22         44    0.00243      0.196    0.00198   0.000608\n",
            "\n",
            "      Epoch    GPU_mem   box_loss   cls_loss   dfl_loss  Instances       Size\n",
            "\u001b[K       2/10         0G      2.586      4.796      2.533         14        640: 100% ━━━━━━━━━━━━ 2/2 0.10it/s 20.8s\n",
            "\u001b[K                 Class     Images  Instances      Box(P          R      mAP50  mAP50-95): 100% ━━━━━━━━━━━━ 1/1 0.14it/s 7.0s\n",
            "                   all         22         44    0.00261      0.256     0.0027   0.000805\n",
            "\n",
            "      Epoch    GPU_mem   box_loss   cls_loss   dfl_loss  Instances       Size\n",
            "\u001b[K       3/10         0G      2.268      4.654      2.282         12        640: 100% ━━━━━━━━━━━━ 2/2 0.09it/s 21.6s\n",
            "\u001b[K                 Class     Images  Instances      Box(P          R      mAP50  mAP50-95): 100% ━━━━━━━━━━━━ 1/1 0.13it/s 7.5s\n",
            "                   all         22         44    0.00258      0.326     0.0124    0.00302\n",
            "\n",
            "      Epoch    GPU_mem   box_loss   cls_loss   dfl_loss  Instances       Size\n",
            "\u001b[K       4/10         0G      2.317      4.673      2.326         12        640: 100% ━━━━━━━━━━━━ 2/2 0.10it/s 20.1s\n",
            "\u001b[K                 Class     Images  Instances      Box(P          R      mAP50  mAP50-95): 100% ━━━━━━━━━━━━ 1/1 0.16it/s 6.2s\n",
            "                   all         22         44    0.00249      0.338      0.036     0.0192\n",
            "\n",
            "      Epoch    GPU_mem   box_loss   cls_loss   dfl_loss  Instances       Size\n",
            "\u001b[K       5/10         0G      1.859      4.358      1.818         10        640: 100% ━━━━━━━━━━━━ 2/2 0.10it/s 20.4s\n",
            "\u001b[K                 Class     Images  Instances      Box(P          R      mAP50  mAP50-95): 100% ━━━━━━━━━━━━ 1/1 0.17it/s 5.8s\n",
            "                   all         22         44    0.00254       0.35     0.0624     0.0233\n",
            "\n",
            "      Epoch    GPU_mem   box_loss   cls_loss   dfl_loss  Instances       Size\n",
            "\u001b[K       6/10         0G      1.916      4.391      1.946         12        640: 100% ━━━━━━━━━━━━ 2/2 0.11it/s 18.4s\n",
            "\u001b[K                 Class     Images  Instances      Box(P          R      mAP50  mAP50-95): 100% ━━━━━━━━━━━━ 1/1 0.15it/s 6.6s\n",
            "                   all         22         44    0.00243      0.338     0.0733      0.025\n",
            "\n",
            "      Epoch    GPU_mem   box_loss   cls_loss   dfl_loss  Instances       Size\n",
            "\u001b[K       7/10         0G      1.724       4.01      1.873         13        640: 100% ━━━━━━━━━━━━ 2/2 0.11it/s 18.0s\n",
            "\u001b[K                 Class     Images  Instances      Box(P          R      mAP50  mAP50-95): 100% ━━━━━━━━━━━━ 1/1 0.14it/s 7.0s\n",
            "                   all         22         44    0.00236      0.326     0.0647     0.0271\n",
            "\n",
            "      Epoch    GPU_mem   box_loss   cls_loss   dfl_loss  Instances       Size\n",
            "\u001b[K       8/10         0G      1.746      4.026      1.869         11        640: 100% ━━━━━━━━━━━━ 2/2 0.12it/s 17.4s\n",
            "\u001b[K                 Class     Images  Instances      Box(P          R      mAP50  mAP50-95): 100% ━━━━━━━━━━━━ 1/1 0.17it/s 6.0s\n",
            "                   all         22         44    0.00238      0.326     0.0764      0.032\n",
            "\n",
            "      Epoch    GPU_mem   box_loss   cls_loss   dfl_loss  Instances       Size\n",
            "\u001b[K       9/10         0G      1.705      3.874       1.78         13        640: 100% ━━━━━━━━━━━━ 2/2 0.11it/s 18.5s\n",
            "\u001b[K                 Class     Images  Instances      Box(P          R      mAP50  mAP50-95): 100% ━━━━━━━━━━━━ 1/1 0.17it/s 5.7s\n",
            "                   all         22         44    0.00249      0.338     0.0879     0.0343\n",
            "\n",
            "      Epoch    GPU_mem   box_loss   cls_loss   dfl_loss  Instances       Size\n",
            "\u001b[K      10/10         0G      1.809      3.994      1.842         12        640: 100% ━━━━━━━━━━━━ 2/2 0.11it/s 18.0s\n",
            "\u001b[K                 Class     Images  Instances      Box(P          R      mAP50  mAP50-95): 100% ━━━━━━━━━━━━ 1/1 0.16it/s 6.2s\n",
            "                   all         22         44    0.00241      0.326     0.0859     0.0356\n",
            "\n",
            "10 epochs completed in 0.073 hours.\n",
            "Optimizer stripped from runs/detect/swiss_zebra_traffic2/weights/last.pt, 6.2MB\n",
            "Optimizer stripped from runs/detect/swiss_zebra_traffic2/weights/best.pt, 6.2MB\n",
            "\n",
            "Validating runs/detect/swiss_zebra_traffic2/weights/best.pt...\n",
            "Ultralytics 8.3.186 🚀 Python-3.12.11 torch-2.8.0+cu126 CPU (Intel Xeon 2.20GHz)\n",
            "Model summary (fused): 72 layers, 3,006,428 parameters, 0 gradients, 8.1 GFLOPs\n",
            "\u001b[K                 Class     Images  Instances      Box(P          R      mAP50  mAP50-95): 100% ━━━━━━━━━━━━ 1/1 0.19it/s 5.2s\n",
            "                   all         22         44    0.00239      0.326     0.0859     0.0353\n",
            "   traffic_light_green          8          9    0.00167      0.222     0.0139     0.0107\n",
            "     traffic_light_red         11         11    0.00166      0.273     0.0108    0.00601\n",
            "  traffic_light_yellow          3          3          0          0          0          0\n",
            "        zebra_crossing         19         21    0.00623       0.81      0.319      0.125\n",
            "Speed: 2.4ms preprocess, 214.9ms inference, 0.0ms loss, 8.0ms postprocess per image\n",
            "Results saved to \u001b[1mruns/detect/swiss_zebra_traffic2\u001b[0m\n",
            "✅ Training completed!\n"
          ]
        }
      ]
    },
    {
      "cell_type": "code",
      "source": [
        "\n",
        "# =============================================================================\n",
        "# 4. EVALUATE THE MODEL\n",
        "# =============================================================================\n",
        "\n",
        "# Load the best model\n",
        "best_model = YOLO('/content/runs/detect/swiss_zebra_traffic/weights/best.pt')\n",
        "\n",
        "# Validate the model\n",
        "validation_results = best_model.val()\n",
        "\n",
        "print(f\"mAP50: {validation_results.box.map50:.3f}\")\n",
        "print(f\"mAP50-95: {validation_results.box.map:.3f}\")\n"
      ],
      "metadata": {
        "colab": {
          "base_uri": "https://localhost:8080/"
        },
        "id": "ARd7rS3klY4r",
        "outputId": "dacd0b53-8ddf-4d21-bb2d-f078a7bc4f64"
      },
      "execution_count": null,
      "outputs": [
        {
          "output_type": "stream",
          "name": "stdout",
          "text": [
            "Ultralytics 8.3.186 🚀 Python-3.12.11 torch-2.8.0+cu126 CPU (Intel Xeon 2.20GHz)\n",
            "Model summary (fused): 72 layers, 3,006,428 parameters, 0 gradients, 8.1 GFLOPs\n",
            "\u001b[34m\u001b[1mval: \u001b[0mFast image access ✅ (ping: 1.1±0.6 ms, read: 37.0±6.7 MB/s, size: 78.0 KB)\n",
            "\u001b[K\u001b[34m\u001b[1mval: \u001b[0mScanning /content/drive/MyDrive/Computer_Vision_Project/data/zebrAssit.v1i.yolov8/train/labels.cache... 22 images, 0 backgrounds, 0 corrupt: 100% ━━━━━━━━━━━━ 22/22 6829.1it/s 0.0s\n",
            "WARNING ⚠️ Box and segment counts should be equal, but got len(segments) = 12, len(boxes) = 44. To resolve this only boxes will be used and all segments will be removed. To avoid this please supply either a detect or segment dataset, not a detect-segment mixed dataset.\n",
            "\u001b[K                 Class     Images  Instances      Box(P          R      mAP50  mAP50-95): 100% ━━━━━━━━━━━━ 2/2 0.37it/s 5.5s\n",
            "                   all         22         44    0.00321       0.29     0.0047    0.00146\n",
            "   traffic_light_green          8          9    0.00123      0.222    0.00319    0.00181\n",
            "     traffic_light_red         11         11    0.00144      0.273   0.000984   0.000311\n",
            "  traffic_light_yellow          3          3          0          0          0          0\n",
            "        zebra_crossing         19         21     0.0102      0.667     0.0146    0.00374\n",
            "Speed: 2.5ms preprocess, 223.4ms inference, 0.0ms loss, 7.9ms postprocess per image\n",
            "Results saved to \u001b[1mruns/detect/val\u001b[0m\n",
            "mAP50: 0.005\n",
            "mAP50-95: 0.001\n"
          ]
        }
      ]
    },
    {
      "cell_type": "code",
      "source": [
        "\n",
        "# =============================================================================\n",
        "# 5. TEST ON SAMPLE IMAGES\n",
        "# =============================================================================\n",
        "\n",
        "# Test on a few sample images\n",
        "test_images = []\n",
        "train_img_dir = f\"{dataset_path}/train/images\"\n",
        "\n",
        "# Get first 3 images for testing\n",
        "for img_file in os.listdir(train_img_dir)[:3]:\n",
        "    if img_file.endswith(('.jpg', '.jpeg', '.png')):\n",
        "        test_images.append(os.path.join(train_img_dir, img_file))\n",
        "\n",
        "print(f\"Testing on {len(test_images)} sample images...\")\n",
        "\n",
        "# Run inference\n",
        "for img_path in test_images:\n",
        "    results = best_model(img_path)\n",
        "\n",
        "    # Plot results\n",
        "    for r in results:\n",
        "        im_array = r.plot()  # plot a BGR numpy array of predictions\n",
        "        im = Image.fromarray(im_array[..., ::-1])  # RGB PIL image\n",
        "\n",
        "        print(f\"Results for {os.path.basename(img_path)}:\")\n",
        "        display(im)\n",
        "\n",
        "        # Print detected objects\n",
        "        if r.boxes is not None:\n",
        "            for box in r.boxes:\n",
        "                class_id = int(box.cls[0])\n",
        "                confidence = float(box.conf[0])\n",
        "                class_name = data_config['names'][class_id]\n",
        "                print(f\"  - {class_name}: {confidence:.2f}\")\n",
        "        print(\"-\" * 50)\n",
        "\n"
      ],
      "metadata": {
        "colab": {
          "base_uri": "https://localhost:8080/",
          "height": 216
        },
        "id": "NCuAfeWClY7b",
        "outputId": "04b9e22f-24aa-419f-a27e-ff6bf33538e3"
      },
      "execution_count": 2,
      "outputs": [
        {
          "output_type": "error",
          "ename": "NameError",
          "evalue": "name 'dataset_path' is not defined",
          "traceback": [
            "\u001b[0;31m---------------------------------------------------------------------------\u001b[0m",
            "\u001b[0;31mNameError\u001b[0m                                 Traceback (most recent call last)",
            "\u001b[0;32m/tmp/ipython-input-2418467807.py\u001b[0m in \u001b[0;36m<cell line: 0>\u001b[0;34m()\u001b[0m\n\u001b[1;32m      5\u001b[0m \u001b[0;31m# Test on a few sample images\u001b[0m\u001b[0;34m\u001b[0m\u001b[0;34m\u001b[0m\u001b[0m\n\u001b[1;32m      6\u001b[0m \u001b[0mtest_images\u001b[0m \u001b[0;34m=\u001b[0m \u001b[0;34m[\u001b[0m\u001b[0;34m]\u001b[0m\u001b[0;34m\u001b[0m\u001b[0;34m\u001b[0m\u001b[0m\n\u001b[0;32m----> 7\u001b[0;31m \u001b[0mtrain_img_dir\u001b[0m \u001b[0;34m=\u001b[0m \u001b[0;34mf\"{dataset_path}/train/images\"\u001b[0m\u001b[0;34m\u001b[0m\u001b[0;34m\u001b[0m\u001b[0m\n\u001b[0m\u001b[1;32m      8\u001b[0m \u001b[0;34m\u001b[0m\u001b[0m\n\u001b[1;32m      9\u001b[0m \u001b[0;31m# Get first 3 images for testing\u001b[0m\u001b[0;34m\u001b[0m\u001b[0;34m\u001b[0m\u001b[0m\n",
            "\u001b[0;31mNameError\u001b[0m: name 'dataset_path' is not defined"
          ]
        }
      ]
    },
    {
      "cell_type": "code",
      "source": [
        "\n",
        "# =============================================================================\n",
        "# 6. EXPORT MODEL FOR DEPLOYMENT\n",
        "# =============================================================================\n",
        "\n",
        "# Export to different formats\n",
        "print(\"📦 Exporting model for deployment...\")\n",
        "\n",
        "# ONNX format (good for mobile deployment)\n",
        "best_model.export(format='onnx')\n",
        "print(\"✅ ONNX model exported\")\n",
        "\n",
        "# TensorRT (if you have compatible GPU)\n",
        "try:\n",
        "    best_model.export(format='engine')\n",
        "    print(\"✅ TensorRT model exported\")\n",
        "except:\n",
        "    print(\"⚠️ TensorRT export failed (normal if no compatible GPU)\")\n"
      ],
      "metadata": {
        "id": "DDIdDOk1mubJ"
      },
      "execution_count": null,
      "outputs": []
    },
    {
      "cell_type": "code",
      "source": [
        "\n",
        "# =============================================================================\n",
        "# 7. DOWNLOAD RESULTS\n",
        "# =============================================================================\n",
        "\n",
        "# Zip the results for download\n",
        "!zip -r swiss_zebra_results.zip /content/runs/detect/swiss_zebra_traffic/\n",
        "\n",
        "print(\"✅ Results zipped!\")\n",
        "print(\"📁 Download 'swiss_zebra_results.zip' from Colab files panel\")\n",
        "print(\"🎯 Your trained model is: runs/detect/swiss_zebra_traffic/weights/best.pt\")\n",
        "\n",
        "# Display training plots\n",
        "training_plots = [\n",
        "    '/content/runs/detect/swiss_zebra_traffic/results.png',\n",
        "    '/content/runs/detect/swiss_zebra_traffic/confusion_matrix.png'\n",
        "]\n",
        "\n",
        "for plot_path in training_plots:\n",
        "    if os.path.exists(plot_path):\n",
        "        print(f\"\\n{os.path.basename(plot_path)}:\")\n",
        "        display(Image(plot_path))\n"
      ],
      "metadata": {
        "id": "jMrOAq9pmudt"
      },
      "execution_count": null,
      "outputs": []
    },
    {
      "cell_type": "code",
      "source": [
        "\n",
        "# =============================================================================\n",
        "# 8. SIMPLE INFERENCE FUNCTION\n",
        "# =============================================================================\n",
        "\n",
        "def detect_zebra_and_lights(image_path, confidence_threshold=0.5):\n",
        "    \"\"\"Simple function to detect zebra crossings and traffic lights.\"\"\"\n",
        "\n",
        "    results = best_model(image_path, conf=confidence_threshold)\n",
        "\n",
        "    detections = []\n",
        "    for r in results:\n",
        "        if r.boxes is not None:\n",
        "            for box in r.boxes:\n",
        "                class_id = int(box.cls[0])\n",
        "                confidence = float(box.conf[0])\n",
        "                class_name = data_config['names'][class_id]\n",
        "\n",
        "                # Get bounding box coordinates\n",
        "                x1, y1, x2, y2 = box.xyxy[0].tolist()\n",
        "\n",
        "                detections.append({\n",
        "                    'class': class_name,\n",
        "                    'confidence': confidence,\n",
        "                    'bbox': [x1, y1, x2, y2]\n",
        "                })\n",
        "\n",
        "    return detections\n",
        "\n",
        "print(\"✅ Inference function ready!\")\n",
        "print(\"Use detect_zebra_and_lights('path_to_image.jpg') to test new images\")"
      ],
      "metadata": {
        "id": "qPpB09-TmugE"
      },
      "execution_count": null,
      "outputs": []
    }
  ]
}